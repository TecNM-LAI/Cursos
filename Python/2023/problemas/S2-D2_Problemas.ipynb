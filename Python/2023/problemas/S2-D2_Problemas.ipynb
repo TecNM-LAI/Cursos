{
 "cells": [
  {
   "attachments": {},
   "cell_type": "markdown",
   "metadata": {},
   "source": [
    "A. Encuentra el tesoro"
   ]
  },
  {
   "cell_type": "code",
   "execution_count": 28,
   "metadata": {},
   "outputs": [
    {
     "name": "stdout",
     "output_type": "stream",
     "text": [
      "Tesoro encontrado\n"
     ]
    }
   ],
   "source": [
    "f1 = input()\n",
    "f2 = input()\n",
    "f3 = input()\n",
    "\n",
    "\n",
    "f1 = f1.split()\n",
    "f2 = f2.split()\n",
    "f3 = f3.split()\n",
    "\n",
    "for i in range(3):\n",
    "    f1[i] = int(f1[i])\n",
    "for i in range(3):\n",
    "    f2[i] = int(f2[i])\n",
    "for i in range(3):\n",
    "    f3[i] = int(f3[i])\n",
    "\n",
    "matriz = [f1, f2, f3]\n",
    "\n",
    "diag1 = matriz[0][0] == matriz[1][1] == matriz[2][2]\n",
    "diag2 = matriz[0][2] == matriz[1][1] == matriz[2][0]\n",
    "\n",
    "if(diag1 and diag2):\n",
    "    print(\"Tesoro encontrado\")\n",
    "else:\n",
    "    print(\"Sigue buscando\")"
   ]
  },
  {
   "attachments": {},
   "cell_type": "markdown",
   "metadata": {},
   "source": [
    "B. Brayan y su bendicion"
   ]
  },
  {
   "cell_type": "code",
   "execution_count": 5,
   "metadata": {},
   "outputs": [
    {
     "name": "stdout",
     "output_type": "stream",
     "text": [
      "19\n"
     ]
    }
   ],
   "source": [
    "nacimiento = int(input())\n",
    "\n",
    "\n",
    "print(2017 - nacimiento)"
   ]
  },
  {
   "attachments": {},
   "cell_type": "markdown",
   "metadata": {},
   "source": [
    "C. Triangulos locos"
   ]
  },
  {
   "cell_type": "code",
   "execution_count": 3,
   "metadata": {},
   "outputs": [
    {
     "name": "stdout",
     "output_type": "stream",
     "text": [
      "9\n"
     ]
    }
   ],
   "source": [
    "L = int(input())\n",
    "\n",
    "\n",
    "print(L**2)"
   ]
  },
  {
   "attachments": {},
   "cell_type": "markdown",
   "metadata": {},
   "source": [
    "D. Buscando la inicial"
   ]
  },
  {
   "cell_type": "code",
   "execution_count": 2,
   "metadata": {},
   "outputs": [
    {
     "name": "stdout",
     "output_type": "stream",
     "text": [
      "sushi\n"
     ]
    }
   ],
   "source": [
    "inicial = str(input())\n",
    "n = int(input())\n",
    "palabras = []\n",
    "for i in range(n):\n",
    "    palabras.append(str(input()))\n",
    "\n",
    "\n",
    "for palabra in palabras:\n",
    "    if(palabra[0] == inicial):\n",
    "        print(palabra)\n",
    "        break"
   ]
  },
  {
   "attachments": {},
   "cell_type": "markdown",
   "metadata": {},
   "source": [
    "E. Concatenacion de dos números"
   ]
  },
  {
   "cell_type": "code",
   "execution_count": 4,
   "metadata": {},
   "outputs": [
    {
     "name": "stdout",
     "output_type": "stream",
     "text": [
      "108\n"
     ]
    }
   ],
   "source": [
    "a = str(input())\n",
    "b = str(input())\n",
    "\n",
    "\n",
    "print(a + b)"
   ]
  },
  {
   "attachments": {},
   "cell_type": "markdown",
   "metadata": {},
   "source": [
    "F. Buscando Inversos Reloaded"
   ]
  },
  {
   "cell_type": "code",
   "execution_count": 7,
   "metadata": {},
   "outputs": [
    {
     "name": "stdout",
     "output_type": "stream",
     "text": [
      "2\n",
      "1\n",
      "0\n",
      "-1\n",
      "-2\n"
     ]
    }
   ],
   "source": [
    "a = int(input())\n",
    "b = int(input())\n",
    "\n",
    "\n",
    "for i in range(a,b+1):\n",
    "    print(i * -1)"
   ]
  },
  {
   "attachments": {},
   "cell_type": "markdown",
   "metadata": {},
   "source": [
    "G. Recortando palabras"
   ]
  },
  {
   "cell_type": "code",
   "execution_count": 12,
   "metadata": {},
   "outputs": [
    {
     "name": "stdout",
     "output_type": "stream",
     "text": [
      "arcago\n"
     ]
    }
   ],
   "source": [
    "entrada = str(input())\n",
    "\n",
    "\n",
    "entrada = entrada.split()\n",
    "palabra = entrada[0]\n",
    "p = int(entrada[1])\n",
    "longitud = len(palabra)\n",
    "\n",
    "print(palabra[0:p] + palabra[longitud-p:longitud])"
   ]
  },
  {
   "attachments": {},
   "cell_type": "markdown",
   "metadata": {},
   "source": [
    "H. Árbol de navidad"
   ]
  },
  {
   "cell_type": "code",
   "execution_count": 35,
   "metadata": {},
   "outputs": [
    {
     "name": "stdout",
     "output_type": "stream",
     "text": [
      "  *  \n",
      " *** \n",
      "*****\n",
      " ### \n",
      " ### \n"
     ]
    }
   ],
   "source": [
    "n = int(input())\n",
    "pascal = (2*n)-1\n",
    "\n",
    "\n",
    "for i in range(n):\n",
    "    piso = \"\"\n",
    "    pascal_piso = (2*(i+1))-1\n",
    "    espacios = int((pascal - pascal_piso) / 2)\n",
    "    for espacios_izq in range(espacios):\n",
    "        piso = piso + \" \"\n",
    "    for asteriscos in range(pascal_piso):\n",
    "        piso = piso + \"*\"\n",
    "    for espacios_der in range(espacios):\n",
    "        piso = piso + \" \"\n",
    "    print(piso)\n",
    "for i in range(2):\n",
    "    piso = \"\"\n",
    "    espacios = int((pascal - 3) / 2)\n",
    "    for espacios_izq in range(espacios):\n",
    "        piso = piso + \" \"\n",
    "    for gatos in range(3):\n",
    "        piso = piso + \"#\"\n",
    "    for espacios_der in range(espacios):\n",
    "        piso = piso + \" \"\n",
    "    print(piso)"
   ]
  },
  {
   "attachments": {},
   "cell_type": "markdown",
   "metadata": {},
   "source": [
    "I. Generar un vector con los primeros N números de la serie Fibonacci."
   ]
  },
  {
   "cell_type": "code",
   "execution_count": 22,
   "metadata": {},
   "outputs": [
    {
     "name": "stdout",
     "output_type": "stream",
     "text": [
      "1 1 2 3 5 8\n"
     ]
    }
   ],
   "source": [
    "n = int(input())\n",
    "\n",
    "\n",
    "fibonacci_list = [1, 1]\n",
    "\n",
    "if n <= 0:\n",
    "    print()\n",
    "elif n == 1:\n",
    "    print(1)\n",
    "elif n == 2:\n",
    "    print(fibonacci_list)\n",
    "else:\n",
    "    while len(fibonacci_list) < n:\n",
    "        next_number = fibonacci_list[-1] + fibonacci_list[-2]\n",
    "        fibonacci_list.append(next_number)\n",
    "    vector = ' '.join(map(str, fibonacci_list))\n",
    "    print(vector)"
   ]
  },
  {
   "attachments": {},
   "cell_type": "markdown",
   "metadata": {},
   "source": [
    "J. Secuencias iguales"
   ]
  },
  {
   "cell_type": "code",
   "execution_count": 24,
   "metadata": {},
   "outputs": [
    {
     "name": "stdout",
     "output_type": "stream",
     "text": [
      "0\n"
     ]
    }
   ],
   "source": [
    "n = int(input())\n",
    "a = input()\n",
    "b = input()\n",
    "comparacion = 1\n",
    "\n",
    "\n",
    "a = a.split()\n",
    "b = b.split()\n",
    "\n",
    "for i in range(n):\n",
    "    a[i] = int(a[i])\n",
    "\n",
    "for i in range(n):\n",
    "    b[i] = int(b[i])\n",
    "\n",
    "for i in range(n):\n",
    "    if(a[i] != b[i]):\n",
    "        comparacion = 0\n",
    "        break\n",
    "\n",
    "print(comparacion)"
   ]
  }
 ],
 "metadata": {
  "kernelspec": {
   "display_name": "mcc",
   "language": "python",
   "name": "python3"
  },
  "language_info": {
   "codemirror_mode": {
    "name": "ipython",
    "version": 3
   },
   "file_extension": ".py",
   "mimetype": "text/x-python",
   "name": "python",
   "nbconvert_exporter": "python",
   "pygments_lexer": "ipython3",
   "version": "3.10.11"
  },
  "orig_nbformat": 4
 },
 "nbformat": 4,
 "nbformat_minor": 2
}
