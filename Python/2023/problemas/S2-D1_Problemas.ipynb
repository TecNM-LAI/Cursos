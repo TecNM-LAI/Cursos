{
 "cells": [
  {
   "attachments": {},
   "cell_type": "markdown",
   "metadata": {},
   "source": [
    "A. Producto punto de dos vectores"
   ]
  },
  {
   "cell_type": "code",
   "execution_count": 1,
   "metadata": {},
   "outputs": [
    {
     "name": "stdout",
     "output_type": "stream",
     "text": [
      "32\n"
     ]
    }
   ],
   "source": [
    "n = int(input())\n",
    "a = input()\n",
    "b = input()\n",
    "pp = 0\n",
    "\n",
    "\n",
    "if(n):\n",
    "  a = a.split()\n",
    "  b = b.split()\n",
    "\n",
    "  for i in range(n):\n",
    "    a[i] = int(a[i])\n",
    "\n",
    "  for i in range(n):\n",
    "    b[i] = int(b[i])\n",
    "\n",
    "  for i in range(n):\n",
    "    pp = pp + (a[i] * b[i])\n",
    "\n",
    "  print(pp)"
   ]
  },
  {
   "attachments": {},
   "cell_type": "markdown",
   "metadata": {},
   "source": [
    "B. A Contar Letras"
   ]
  },
  {
   "cell_type": "code",
   "execution_count": 2,
   "metadata": {},
   "outputs": [
    {
     "name": "stdout",
     "output_type": "stream",
     "text": [
      "4\n"
     ]
    }
   ],
   "source": [
    "palabra = str(input())\n",
    "contador = 0\n",
    "\n",
    "\n",
    "for letra in palabra:\n",
    "    contador += 1\n",
    "\n",
    "print(contador)"
   ]
  },
  {
   "attachments": {},
   "cell_type": "markdown",
   "metadata": {},
   "source": [
    "C. Descifrando El Código"
   ]
  },
  {
   "cell_type": "code",
   "execution_count": 3,
   "metadata": {},
   "outputs": [
    {
     "name": "stdout",
     "output_type": "stream",
     "text": [
      "1\n"
     ]
    }
   ],
   "source": [
    "codigo = str(input())\n",
    "\n",
    "\n",
    "print(codigo[-1])"
   ]
  }
 ],
 "metadata": {
  "kernelspec": {
   "display_name": "mcc",
   "language": "python",
   "name": "python3"
  },
  "language_info": {
   "codemirror_mode": {
    "name": "ipython",
    "version": 3
   },
   "file_extension": ".py",
   "mimetype": "text/x-python",
   "name": "python",
   "nbconvert_exporter": "python",
   "pygments_lexer": "ipython3",
   "version": "3.10.11"
  },
  "orig_nbformat": 4
 },
 "nbformat": 4,
 "nbformat_minor": 2
}
