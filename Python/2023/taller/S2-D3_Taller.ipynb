{
 "cells": [
  {
   "cell_type": "code",
   "execution_count": 13,
   "metadata": {},
   "outputs": [
    {
     "name": "stdout",
     "output_type": "stream",
     "text": [
      "Azul\n",
      "Estándar\n"
     ]
    }
   ],
   "source": [
    "class coche(object):\n",
    "    def __init__(self, color, transmision, puertas, gasolina, marca):\n",
    "        self.color = color\n",
    "        self.transmision = transmision\n",
    "        self.puertas = puertas\n",
    "        self.gasolina = gasolina\n",
    "        self.marca = marca\n",
    "    def imprimir_color(self):\n",
    "        print(self.color)\n",
    "\n",
    "\n",
    "mi_coche = coche(color=\"Azul\",\n",
    "                 transmision=\"Estándar\",\n",
    "                 puertas=4,\n",
    "                 gasolina=\"Premium\",\n",
    "                 marca=\"Audi\")\n",
    "\n",
    "mi_coche.imprimir_color()\n",
    "print(mi_coche.transmision)"
   ]
  },
  {
   "cell_type": "code",
   "execution_count": 14,
   "metadata": {},
   "outputs": [
    {
     "name": "stdout",
     "output_type": "stream",
     "text": [
      "Rojo\n",
      "5\n",
      "Toyota\n"
     ]
    }
   ],
   "source": [
    "class coche(object):\n",
    "    def __init__(self):\n",
    "        self.color = \"Rojo\"\n",
    "        self.transmision = None\n",
    "        self.puertas = None\n",
    "        self.gasolina = None\n",
    "        self.marca = 5\n",
    "    def imprimir_color(self):\n",
    "        print(self.color)\n",
    "\n",
    "\n",
    "mi_coche = coche()\n",
    "\n",
    "mi_coche.imprimir_color()\n",
    "\n",
    "print(mi_coche.marca)\n",
    "mi_coche.marca = \"Toyota\"\n",
    "\n",
    "print(mi_coche.marca)"
   ]
  },
  {
   "cell_type": "code",
   "execution_count": 20,
   "metadata": {},
   "outputs": [
    {
     "name": "stdout",
     "output_type": "stream",
     "text": [
      "22.024322512687924\n"
     ]
    }
   ],
   "source": [
    "class humano(object):\n",
    "    def __init__(self, peso, estatura, raza):\n",
    "        self.peso = peso\n",
    "        self.estatura = estatura\n",
    "        self.raza = raza\n",
    "        self.imc = None\n",
    "    def calcular_IMC(self):\n",
    "        self.imc = self.peso / self.estatura**2\n",
    "        print(self.imc)\n",
    "\n",
    "\n",
    "luis = humano(peso=69.0, estatura=1.77, raza=\"Caucásico\")\n",
    "luis.calcular_IMC()"
   ]
  },
  {
   "cell_type": "code",
   "execution_count": 21,
   "metadata": {},
   "outputs": [
    {
     "name": "stdout",
     "output_type": "stream",
     "text": [
      "6\n"
     ]
    }
   ],
   "source": [
    "def suma(a, b):\n",
    "    c = a + b\n",
    "    return c\n",
    "\n",
    "resultado = suma(2, 4)\n",
    "print(resultado)"
   ]
  },
  {
   "cell_type": "code",
   "execution_count": 35,
   "metadata": {},
   "outputs": [
    {
     "name": "stdout",
     "output_type": "stream",
     "text": [
      "Toyota Nissan \n"
     ]
    }
   ],
   "source": [
    "def suma_palabras(*dinamico):\n",
    "    salida = str()\n",
    "    for elemento in dinamico:\n",
    "        salida = salida + i\n",
    "    print(salida)\n",
    "\n",
    "\n",
    "\n",
    "suma_palabras(\"Toyota \", \"Nissan \")"
   ]
  }
 ],
 "metadata": {
  "kernelspec": {
   "display_name": "mcc",
   "language": "python",
   "name": "python3"
  },
  "language_info": {
   "codemirror_mode": {
    "name": "ipython",
    "version": 3
   },
   "file_extension": ".py",
   "mimetype": "text/x-python",
   "name": "python",
   "nbconvert_exporter": "python",
   "pygments_lexer": "ipython3",
   "version": "3.10.11"
  },
  "orig_nbformat": 4
 },
 "nbformat": 4,
 "nbformat_minor": 2
}
