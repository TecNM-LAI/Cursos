{
 "cells": [
  {
   "cell_type": "code",
   "execution_count": 51,
   "metadata": {},
   "outputs": [
    {
     "name": "stdout",
     "output_type": "stream",
     "text": [
      "Ma -> Ford, M -> Fiesta, Y -> 2023\n",
      "Ma -> Suzuki, M -> Swift, Y -> 2010\n",
      "Ma -> Dodge, M -> Attitude, Y -> 2020\n",
      "Ma -> Nissan, M -> Versa, Y -> 2009\n"
     ]
    }
   ],
   "source": [
    "db_usados = {\"Marca\": [\"Ford\", \"Suzuki\", \"Dodge\"],\n",
    "             \"Modelo\": [\"Fiesta\", \"Swift\", \"Attitude\"],\n",
    "             \"Año\": [2023, 2010, 2020]}\n",
    "\n",
    "\n",
    "impresion_consola = \"Ma -> {0}, M -> {1}, Y -> {2}\".format(db_usados[\"Marca\"][1], db_usados[\"Modelo\"][1], db_usados[\"Año\"][1])\n",
    "#print(impresion_consola)\n",
    "\n",
    "# print(db_usados[\"Marca\"][1])\n",
    "# print(db_usados[\"Año\"][1])\n",
    "# print(db_usados[\"Modelo\"][1])\n",
    "\n",
    "Nuevo_marca = input(\"Dame una nueva marca: \")\n",
    "Nuevo_modelo = input(\"Dame modelo: \")\n",
    "Nuevo_anno = int(input(\"Dame año: \"))\n",
    "\n",
    "db_usados[\"Marca\"].append(Nuevo_marca)\n",
    "db_usados[\"Modelo\"].append(Nuevo_modelo)\n",
    "db_usados[\"Año\"].append(Nuevo_anno)\n",
    "\n",
    "\n",
    "for k in range(len(db_usados[\"Marca\"])):\n",
    "    impresion_consola = \"Ma -> {0}, M -> {1}, Y -> {2}\".format(db_usados[\"Marca\"][k], db_usados[\"Modelo\"][k], db_usados[\"Año\"][k])\n",
    "    print(impresion_consola)"
   ]
  },
  {
   "cell_type": "code",
   "execution_count": 52,
   "metadata": {},
   "outputs": [
    {
     "name": "stdout",
     "output_type": "stream",
     "text": [
      "4\n",
      "Rosario\n",
      "Camila\n",
      "Eduardo\n",
      "Miguel\n"
     ]
    }
   ],
   "source": [
    "classmates = [\"Rosario\", \"Camila\", \"Eduardo\", \"Miguel\"]\n",
    "print(len(classmates))\n",
    "for i in range(len(classmates)):\n",
    "    print(classmates[i])"
   ]
  }
 ],
 "metadata": {
  "kernelspec": {
   "display_name": "mcc",
   "language": "python",
   "name": "python3"
  },
  "language_info": {
   "codemirror_mode": {
    "name": "ipython",
    "version": 3
   },
   "file_extension": ".py",
   "mimetype": "text/x-python",
   "name": "python",
   "nbconvert_exporter": "python",
   "pygments_lexer": "ipython3",
   "version": "3.10.11"
  },
  "orig_nbformat": 4
 },
 "nbformat": 4,
 "nbformat_minor": 2
}
